{
 "cells": [
  {
   "cell_type": "markdown",
   "metadata": {},
   "source": [
    "# WeatherPy\n",
    "----\n",
    "\n",
    "#### Note\n",
    "* Instructions have been included for each segment. You do not have to follow them exactly, but they are included to help you think through the steps."
   ]
  },
  {
   "cell_type": "code",
   "execution_count": 1,
   "metadata": {
    "scrolled": true
   },
   "outputs": [],
   "source": [
    "# Dependencies and Setup\n",
    "import matplotlib.pyplot as plt\n",
    "import pandas as pd\n",
    "import numpy as np\n",
    "import requests\n",
    "import time\n",
    "\n",
    "# Import API key\n",
    "from api_keys import api_key\n",
    "\n",
    "# Incorporated citipy to determine city based on latitude and longitude\n",
    "from citipy import citipy\n",
    "\n",
    "# Output File (CSV)\n",
    "output_data_file = \"output_data/cities.csv\"\n",
    "\n",
    "# Range of latitudes and longitudes\n",
    "lat_range = (-90, 90)\n",
    "lng_range = (-180, 180)"
   ]
  },
  {
   "cell_type": "code",
   "execution_count": 2,
   "metadata": {},
   "outputs": [
    {
     "data": {
      "text/plain": [
       "'b3ad551a71d4500802a0b76532b21b6d'"
      ]
     },
     "execution_count": 2,
     "metadata": {},
     "output_type": "execute_result"
    }
   ],
   "source": [
    "api_key"
   ]
  },
  {
   "cell_type": "markdown",
   "metadata": {},
   "source": [
    "## Generate Cities List"
   ]
  },
  {
   "cell_type": "code",
   "execution_count": 3,
   "metadata": {},
   "outputs": [
    {
     "data": {
      "text/plain": [
       "625"
      ]
     },
     "execution_count": 3,
     "metadata": {},
     "output_type": "execute_result"
    }
   ],
   "source": [
    "# List for holding lat_lngs and cities\n",
    "lat_lngs = []\n",
    "cities = []\n",
    "\n",
    "# Create a set of random lat and lng combinations\n",
    "lats = np.random.uniform(low=-90.000, high=90.000, size=1500)\n",
    "lngs = np.random.uniform(low=-180.000, high=180.000, size=1500)\n",
    "lat_lngs = zip(lats, lngs)\n",
    "\n",
    "# Identify nearest city for each lat, lng combination\n",
    "for lat_lng in lat_lngs:\n",
    "    city = citipy.nearest_city(lat_lng[0], lat_lng[1]).city_name\n",
    "    \n",
    "    # If the city is unique, then add it to a our cities list\n",
    "    if city not in cities:\n",
    "        cities.append(city)\n",
    "\n",
    "# Print the city count to confirm sufficient count\n",
    "len(cities)"
   ]
  },
  {
   "cell_type": "markdown",
   "metadata": {},
   "source": [
    "### Perform API Calls\n",
    "* Perform a weather check on each city using a series of successive API calls.\n",
    "* Include a print log of each city as it'sbeing processed (with the city number and city name).\n"
   ]
  },
  {
   "cell_type": "code",
   "execution_count": null,
   "metadata": {},
   "outputs": [],
   "source": [
    "url = \"http://api.openweathermap.org/data/2.5/weather?\"\n",
    "api_key = \"b3ad551a71d4500802a0b76532b21b6d\"\n",
    "\n",
    "# units=Imperial didn't recognize which units to pull from and Adam helped me figure this out!\n",
    "for city in cities:\n",
    "    query_url = url + \"units=Imperial&APPID=\" + api_key + \"&q=\" + city\n",
    "    response = requests.get(query_url).json()\n",
    "    break\n",
    "        "
   ]
  },
  {
   "cell_type": "code",
   "execution_count": null,
   "metadata": {},
   "outputs": [
    {
     "name": "stdout",
     "output_type": "stream",
     "text": [
      "{'coord': {'lon': 112.94, 'lat': 2.02}, 'weather': [{'id': 500, 'main': 'Rain', 'description': 'light rain', 'icon': '10d'}], 'base': 'stations', 'main': {'temp': 83.54, 'pressure': 1012.82, 'humidity': 78, 'temp_min': 83.54, 'temp_max': 83.54, 'sea_level': 1012.82, 'grnd_level': 997.19}, 'wind': {'speed': 1.39, 'deg': 281.602}, 'rain': {'3h': 2}, 'clouds': {'all': 53}, 'dt': 1569548390, 'sys': {'message': 0.0065, 'country': 'MY', 'sunrise': 1569536179, 'sunset': 1569579755}, 'timezone': 28800, 'id': 1737185, 'name': 'Kapit', 'cod': 200}\n"
     ]
    }
   ],
   "source": [
    "print(response)"
   ]
  },
  {
   "cell_type": "code",
   "execution_count": null,
   "metadata": {},
   "outputs": [
    {
     "name": "stdout",
     "output_type": "stream",
     "text": [
      "Beginning Data Retrieval\n",
      "_________________________\n",
      "{'cod': '404', 'message': 'city not found'}\n",
      "City not found. Skipping...\n",
      "{'cod': '404', 'message': 'city not found'}\n",
      "City not found. Skipping...\n",
      "{'cod': '404', 'message': 'city not found'}\n",
      "City not found. Skipping...\n",
      "{'cod': '404', 'message': 'city not found'}\n",
      "City not found. Skipping...\n",
      "{'cod': '404', 'message': 'city not found'}\n",
      "City not found. Skipping...\n",
      "{'cod': '404', 'message': 'city not found'}\n",
      "City not found. Skipping...\n",
      "{'cod': '404', 'message': 'city not found'}\n",
      "City not found. Skipping...\n",
      "{'cod': '404', 'message': 'city not found'}\n",
      "City not found. Skipping...\n",
      "{'cod': '404', 'message': 'city not found'}\n",
      "City not found. Skipping...\n",
      "{'cod': '404', 'message': 'city not found'}\n",
      "City not found. Skipping...\n",
      "{'cod': '404', 'message': 'city not found'}\n",
      "City not found. Skipping...\n",
      "{'cod': '404', 'message': 'city not found'}\n",
      "City not found. Skipping...\n",
      "{'cod': '404', 'message': 'city not found'}\n",
      "City not found. Skipping...\n",
      "{'cod': '404', 'message': 'city not found'}\n",
      "City not found. Skipping...\n",
      "{'cod': '404', 'message': 'city not found'}\n",
      "City not found. Skipping...\n",
      "{'cod': '404', 'message': 'city not found'}\n",
      "City not found. Skipping...\n",
      "{'cod': '404', 'message': 'city not found'}\n",
      "City not found. Skipping...\n",
      "{'cod': '404', 'message': 'city not found'}\n",
      "City not found. Skipping...\n",
      "{'cod': '404', 'message': 'city not found'}\n",
      "City not found. Skipping...\n",
      "{'cod': '404', 'message': 'city not found'}\n",
      "City not found. Skipping...\n",
      "{'cod': '404', 'message': 'city not found'}\n",
      "City not found. Skipping...\n",
      "{'cod': '404', 'message': 'city not found'}\n",
      "City not found. Skipping...\n",
      "{'cod': '404', 'message': 'city not found'}\n",
      "City not found. Skipping...\n",
      "{'cod': '404', 'message': 'city not found'}\n",
      "City not found. Skipping...\n",
      "{'cod': '404', 'message': 'city not found'}\n",
      "City not found. Skipping...\n",
      "{'cod': '404', 'message': 'city not found'}\n",
      "City not found. Skipping...\n",
      "{'cod': '404', 'message': 'city not found'}\n",
      "City not found. Skipping...\n",
      "{'cod': '404', 'message': 'city not found'}\n",
      "City not found. Skipping...\n",
      "{'cod': '404', 'message': 'city not found'}\n",
      "City not found. Skipping...\n",
      "{'cod': '404', 'message': 'city not found'}\n",
      "City not found. Skipping...\n",
      "{'cod': '404', 'message': 'city not found'}\n",
      "City not found. Skipping...\n",
      "{'cod': '404', 'message': 'city not found'}\n",
      "City not found. Skipping...\n",
      "{'cod': '404', 'message': 'city not found'}\n",
      "City not found. Skipping...\n",
      "{'cod': '404', 'message': 'city not found'}\n",
      "City not found. Skipping...\n",
      "{'cod': '404', 'message': 'city not found'}\n",
      "City not found. Skipping...\n",
      "{'cod': '404', 'message': 'city not found'}\n",
      "City not found. Skipping...\n",
      "{'cod': '404', 'message': 'city not found'}\n",
      "City not found. Skipping...\n",
      "{'cod': '404', 'message': 'city not found'}\n",
      "City not found. Skipping...\n",
      "{'cod': '404', 'message': 'city not found'}\n",
      "City not found. Skipping...\n",
      "{'cod': '404', 'message': 'city not found'}\n",
      "City not found. Skipping...\n",
      "{'cod': '404', 'message': 'city not found'}\n",
      "City not found. Skipping...\n",
      "{'cod': '404', 'message': 'city not found'}\n",
      "City not found. Skipping...\n",
      "{'cod': '404', 'message': 'city not found'}\n",
      "City not found. Skipping...\n",
      "{'cod': '404', 'message': 'city not found'}\n",
      "City not found. Skipping...\n",
      "{'cod': '404', 'message': 'city not found'}\n",
      "City not found. Skipping...\n",
      "{'cod': '404', 'message': 'city not found'}\n",
      "City not found. Skipping...\n",
      "{'cod': '404', 'message': 'city not found'}\n",
      "City not found. Skipping...\n",
      "{'cod': '404', 'message': 'city not found'}\n",
      "City not found. Skipping...\n",
      "{'cod': '404', 'message': 'city not found'}\n",
      "City not found. Skipping...\n",
      "{'cod': '404', 'message': 'city not found'}\n",
      "City not found. Skipping...\n",
      "{'cod': '404', 'message': 'city not found'}\n",
      "City not found. Skipping...\n",
      "{'cod': '404', 'message': 'city not found'}\n",
      "City not found. Skipping...\n",
      "{'cod': '404', 'message': 'city not found'}\n",
      "City not found. Skipping...\n",
      "{'cod': '404', 'message': 'city not found'}\n",
      "City not found. Skipping...\n",
      "{'cod': '404', 'message': 'city not found'}\n",
      "City not found. Skipping...\n",
      "{'cod': '404', 'message': 'city not found'}\n",
      "City not found. Skipping...\n",
      "{'cod': '404', 'message': 'city not found'}\n",
      "City not found. Skipping...\n",
      "{'cod': '404', 'message': 'city not found'}\n",
      "City not found. Skipping...\n",
      "{'cod': '404', 'message': 'city not found'}\n",
      "City not found. Skipping...\n",
      "{'cod': '404', 'message': 'city not found'}\n",
      "City not found. Skipping...\n",
      "{'cod': '404', 'message': 'city not found'}\n",
      "City not found. Skipping...\n",
      "{'cod': '404', 'message': 'city not found'}\n",
      "City not found. Skipping...\n",
      "{'cod': '404', 'message': 'city not found'}\n",
      "City not found. Skipping...\n"
     ]
    }
   ],
   "source": [
    "#Open Weather API Key\n",
    "\n",
    "#url = \"http://api.openweathermap.org/data/2.5/weather?\"\n",
    "\n",
    "#query_url = url + \"appid=\" + api_key + \"&q=\" + city\n",
    "\n",
    "\n",
    "#Creating lists per the table needed below\n",
    "\n",
    "\n",
    "city_name = []\n",
    "cloudiness = []\n",
    "country = []\n",
    "date = []\n",
    "humidity = []\n",
    "temp = []\n",
    "lat = []\n",
    "lng = []\n",
    "max_temp = []\n",
    "wind_speed = []\n",
    "record = 1\n",
    "\n",
    "print(f\"Beginning Data Retrieval\")\n",
    "print(f\"_________________________\")\n",
    "\n",
    "# I need to figure out how to loop through the cities to retrieve the information needed\n",
    "# I learned that I needed to do a try and except since I kept getting errors because\n",
    "# Not all cities returned data\n",
    "#city_name.append(response['name']) \n",
    "   \n",
    "for city in cities:\n",
    "##    response = requests.get(query_url).json()\n",
    "##    city_clouds = response['weather']['main']['Clouds']\n",
    "#    city_name.append(response['name'])\n",
    "#    cloudiness.append(response[\"clouds\"])\n",
    "##    print(city_clouds)\n",
    "#        cloudiness.append('Clouds')\n",
    "#        cloudiness.append('all')\n",
    "#        country.append('main')\n",
    "#        country.append('humidity')\n",
    "#        date.append('dt')\n",
    "#        humidity.append('main')\n",
    "#        humidity.append('humidity')\n",
    "#        max_temp.append('dt')\n",
    "#        lat.append('coord')\n",
    "#        lat.append('lat')\n",
    "#        lng.append('coord')\n",
    "#        lng.append('lon')\n",
    "#        temp.append('main')\n",
    "#        temp.append('temp')\n",
    "#        wind_speed.append('wind')\n",
    "#        wind_speed.append('wind')\n",
    "#        city_record = ('name')\n",
    "#        print(f\"Processing Record {record} | {city_record}\")\n",
    "#        print(f\"{query_url}&q={city}\")\n",
    "#        record = record + 1\n",
    "        \n",
    "#    except:\n",
    "#        print(\"City not found, skipping...\")\n",
    "#    continue\n",
    "        \n",
    "    \n",
    "    try:\n",
    "        response = requests.get(f\"{query_url}units=Imperial&APPID={city}\").json()\n",
    "        print(response)\n",
    "        city_name.append(response[\"name\"])\n",
    "        cloudiness.append(response[\"Clouds\"][\"all\"])\n",
    "        country.append(response[\"sys\"][\"country\"])\n",
    "        date.append(response[\"dt\"])\n",
    "        humidity.append(response[\"main\"][\"humidity\"])\n",
    "        max_temp.append(response[\"main\"][\"temp_max\"])\n",
    "        lat.append(response[\"coord\"][\"lat\"])\n",
    "        lng.append(response[\"coord\"][\"lon\"])\n",
    "        wind_speed.append(response[\"wind\"][\"speed\"])\n",
    "        city_record = response[\"name\"]\n",
    "        print(f\"Processing Record {record} | {city_record}\")\n",
    "        print(f\"{query_url}units=Imperial&APPID={city}\")\n",
    "        \n",
    "#        record = record + 1\n",
    "        \n",
    "#        time.sleep(1.01)\n",
    "        \n",
    "    except:\n",
    "        print(\"City not found. Skipping...\")\n",
    "    continue\n",
    "    "
   ]
  },
  {
   "cell_type": "markdown",
   "metadata": {},
   "source": [
    "### Convert Raw Data to DataFrame\n",
    "* Export the city data into a .csv.\n",
    "* Display the DataFrame"
   ]
  },
  {
   "cell_type": "code",
   "execution_count": null,
   "metadata": {},
   "outputs": [],
   "source": []
  },
  {
   "cell_type": "code",
   "execution_count": null,
   "metadata": {},
   "outputs": [],
   "source": []
  },
  {
   "cell_type": "markdown",
   "metadata": {},
   "source": [
    "### Plotting the Data\n",
    "* Use proper labeling of the plots using plot titles (including date of analysis) and axes labels.\n",
    "* Save the plotted figures as .pngs."
   ]
  },
  {
   "cell_type": "markdown",
   "metadata": {},
   "source": [
    "#### Latitude vs. Temperature Plot"
   ]
  },
  {
   "cell_type": "code",
   "execution_count": null,
   "metadata": {},
   "outputs": [],
   "source": []
  },
  {
   "cell_type": "markdown",
   "metadata": {},
   "source": [
    "#### Latitude vs. Humidity Plot"
   ]
  },
  {
   "cell_type": "code",
   "execution_count": null,
   "metadata": {},
   "outputs": [],
   "source": []
  },
  {
   "cell_type": "markdown",
   "metadata": {},
   "source": [
    "#### Latitude vs. Cloudiness Plot"
   ]
  },
  {
   "cell_type": "code",
   "execution_count": null,
   "metadata": {},
   "outputs": [],
   "source": []
  },
  {
   "cell_type": "markdown",
   "metadata": {},
   "source": [
    "#### Latitude vs. Wind Speed Plot"
   ]
  },
  {
   "cell_type": "code",
   "execution_count": null,
   "metadata": {},
   "outputs": [],
   "source": []
  },
  {
   "cell_type": "code",
   "execution_count": null,
   "metadata": {},
   "outputs": [],
   "source": []
  }
 ],
 "metadata": {
  "anaconda-cloud": {},
  "kernel_info": {
   "name": "python3"
  },
  "kernelspec": {
   "display_name": "Python 3",
   "language": "python",
   "name": "python3"
  },
  "language_info": {
   "codemirror_mode": {
    "name": "ipython",
    "version": 3
   },
   "file_extension": ".py",
   "mimetype": "text/x-python",
   "name": "python",
   "nbconvert_exporter": "python",
   "pygments_lexer": "ipython3",
   "version": "3.7.3"
  },
  "nteract": {
   "version": "0.12.3"
  }
 },
 "nbformat": 4,
 "nbformat_minor": 2
}
